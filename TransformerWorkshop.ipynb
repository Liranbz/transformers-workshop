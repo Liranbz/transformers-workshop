{
  "nbformat": 4,
  "nbformat_minor": 0,
  "metadata": {
    "colab": {
      "name": "TransformerWorkshop.ipynb",
      "provenance": [],
      "include_colab_link": true
    },
    "kernelspec": {
      "name": "python3",
      "display_name": "Python 3"
    },
    "accelerator": "GPU"
  },
  "cells": [
    {
      "cell_type": "markdown",
      "metadata": {
        "id": "view-in-github",
        "colab_type": "text"
      },
      "source": [
        "<a href=\"https://colab.research.google.com/github/YuvalPeleg/transformers-workshop/blob/master/TransformerWorkshop.ipynb\" target=\"_parent\"><img src=\"https://colab.research.google.com/assets/colab-badge.svg\" alt=\"Open In Colab\"/></a>"
      ]
    },
    {
      "cell_type": "code",
      "metadata": {
        "id": "c29wDsH10Lqm",
        "colab_type": "code",
        "colab": {}
      },
      "source": [
        "%matplotlib inline"
      ],
      "execution_count": 0,
      "outputs": []
    },
    {
      "cell_type": "markdown",
      "metadata": {
        "id": "lR28TRN00cJW",
        "colab_type": "text"
      },
      "source": [
        "\n",
        "Explaining transformer encoders with Language models\n",
        "===============================================================\n",
        "In this tutorial we will build (mostly) from scratch the encoder part of the transformer model, and use it to build a [language model](https://en.wikipedia.org/wiki/Language_model)\n",
        "\n",
        "This tutorial is basically a remix of these excelent tutorials:\n",
        "\n",
        "[The Annotated Transformer](https://nlp.seas.harvard.edu/2018/04/03/attention.html) \n",
        "\n",
        "[Pytorch- sequence to sequence modeling ](https://pytorch.org/tutorials/beginner/transformer_tutorial.html)\n",
        "\n",
        "Much of the code is taken directly from them.\n",
        "\n",
        "Another excelent source is [The Illustrated Transformer](http://jalammar.github.io/illustrated-transformer/)\n",
        "\n",
        "The transormer is based on this [paper](https://arxiv.org/abs/1706.03762) by Google research\n",
        "\n",
        "\n",
        "\n",
        "![](https://github.com/pytorch/tutorials/blob/master/_static/img/transformer_architecture.jpg?raw=true)\n",
        "\n",
        "\n",
        "\n"
      ]
    },
    {
      "cell_type": "code",
      "metadata": {
        "id": "8aif7X_mDg3O",
        "colab_type": "code",
        "colab": {}
      },
      "source": [
        ""
      ],
      "execution_count": 0,
      "outputs": []
    },
    {
      "cell_type": "code",
      "metadata": {
        "id": "wsyPi76P0YDG",
        "colab_type": "code",
        "outputId": "391a5a5e-b923-47cd-fa53-49d19e0fef6f",
        "colab": {
          "base_uri": "https://localhost:8080/",
          "height": 394
        }
      },
      "source": [
        "import torch\n",
        "\n",
        "!pip install pytorch_transformers\n"
      ],
      "execution_count": 9,
      "outputs": [
        {
          "output_type": "stream",
          "text": [
            "Requirement already satisfied: pytorch_transformers in /usr/local/lib/python3.6/dist-packages (1.2.0)\n",
            "Requirement already satisfied: regex in /usr/local/lib/python3.6/dist-packages (from pytorch_transformers) (2019.11.1)\n",
            "Requirement already satisfied: sentencepiece in /usr/local/lib/python3.6/dist-packages (from pytorch_transformers) (0.1.83)\n",
            "Requirement already satisfied: requests in /usr/local/lib/python3.6/dist-packages (from pytorch_transformers) (2.21.0)\n",
            "Requirement already satisfied: tqdm in /usr/local/lib/python3.6/dist-packages (from pytorch_transformers) (4.28.1)\n",
            "Requirement already satisfied: numpy in /usr/local/lib/python3.6/dist-packages (from pytorch_transformers) (1.17.3)\n",
            "Requirement already satisfied: boto3 in /usr/local/lib/python3.6/dist-packages (from pytorch_transformers) (1.10.7)\n",
            "Requirement already satisfied: torch>=1.0.0 in /usr/local/lib/python3.6/dist-packages (from pytorch_transformers) (1.3.0+cu100)\n",
            "Requirement already satisfied: sacremoses in /usr/local/lib/python3.6/dist-packages (from pytorch_transformers) (0.0.35)\n",
            "Requirement already satisfied: idna<2.9,>=2.5 in /usr/local/lib/python3.6/dist-packages (from requests->pytorch_transformers) (2.8)\n",
            "Requirement already satisfied: urllib3<1.25,>=1.21.1 in /usr/local/lib/python3.6/dist-packages (from requests->pytorch_transformers) (1.24.3)\n",
            "Requirement already satisfied: chardet<3.1.0,>=3.0.2 in /usr/local/lib/python3.6/dist-packages (from requests->pytorch_transformers) (3.0.4)\n",
            "Requirement already satisfied: certifi>=2017.4.17 in /usr/local/lib/python3.6/dist-packages (from requests->pytorch_transformers) (2019.9.11)\n",
            "Requirement already satisfied: botocore<1.14.0,>=1.13.7 in /usr/local/lib/python3.6/dist-packages (from boto3->pytorch_transformers) (1.13.7)\n",
            "Requirement already satisfied: jmespath<1.0.0,>=0.7.1 in /usr/local/lib/python3.6/dist-packages (from boto3->pytorch_transformers) (0.9.4)\n",
            "Requirement already satisfied: s3transfer<0.3.0,>=0.2.0 in /usr/local/lib/python3.6/dist-packages (from boto3->pytorch_transformers) (0.2.1)\n",
            "Requirement already satisfied: click in /usr/local/lib/python3.6/dist-packages (from sacremoses->pytorch_transformers) (7.0)\n",
            "Requirement already satisfied: joblib in /usr/local/lib/python3.6/dist-packages (from sacremoses->pytorch_transformers) (0.14.0)\n",
            "Requirement already satisfied: six in /usr/local/lib/python3.6/dist-packages (from sacremoses->pytorch_transformers) (1.12.0)\n",
            "Requirement already satisfied: python-dateutil<3.0.0,>=2.1; python_version >= \"2.7\" in /usr/local/lib/python3.6/dist-packages (from botocore<1.14.0,>=1.13.7->boto3->pytorch_transformers) (2.6.1)\n",
            "Requirement already satisfied: docutils<0.16,>=0.10 in /usr/local/lib/python3.6/dist-packages (from botocore<1.14.0,>=1.13.7->boto3->pytorch_transformers) (0.15.2)\n"
          ],
          "name": "stdout"
        }
      ]
    },
    {
      "cell_type": "code",
      "metadata": {
        "id": "4Tr_oiSe4MQT",
        "colab_type": "code",
        "outputId": "50920fdf-c9bb-486a-838e-865d6c9efbbc",
        "colab": {
          "base_uri": "https://localhost:8080/",
          "height": 34
        }
      },
      "source": [
        "import torch\n",
        "#Test for cuda device- should be something like 'Tesla K80'\n",
        "torch.cuda.get_device_name(0)\n"
      ],
      "execution_count": 10,
      "outputs": [
        {
          "output_type": "execute_result",
          "data": {
            "text/plain": [
              "'Tesla P100-PCIE-16GB'"
            ]
          },
          "metadata": {
            "tags": []
          },
          "execution_count": 10
        }
      ]
    },
    {
      "cell_type": "code",
      "metadata": {
        "id": "4Sq_noT55Aih",
        "colab_type": "code",
        "colab": {}
      },
      "source": [
        "# Standard PyTorch imports\n",
        "import numpy as np\n",
        "import torch\n",
        "import torch.nn as nn\n",
        "import torch.nn.functional as F\n",
        "import math, copy\n",
        "from torch.autograd import Variable\n",
        "import time\n",
        "\n",
        "# For plots\n",
        "%matplotlib inline\n",
        "import matplotlib.pyplot as plt"
      ],
      "execution_count": 0,
      "outputs": []
    },
    {
      "cell_type": "markdown",
      "metadata": {
        "id": "ORmxVEKA5iFy",
        "colab_type": "text"
      },
      "source": [
        "Load and batch the data\n",
        "========================\n",
        "The training process uses Wikitext-2 dataset from ``torchtext``.\n",
        "\n",
        "The [WikiText](https://www.salesforce.com/products/einstein/ai-research/the-wikitext-dependency-language-modeling-dataset/#) language modeling dataset is a collection of over 100 million tokens extracted from the set of verified Good and Featured articles on Wikipedia. \n",
        "\n",
        "It is basically a long list of tokens.\n",
        "\n",
        "The vocab object is built based on the train dataset and is used to numericalize\n",
        "tokens into tensors. Starting from sequential data, the ``batchify()``\n",
        "function arranges the dataset into columns, trimming off any tokens remaining\n",
        "after the data has been divided into batches of size ``batch_size``.\n",
        "For instance, with the alphabet as the sequence (total length of 26)\n",
        "and a batch size of 4, we would divide the alphabet into 4 sequences of\n",
        "length 6:\n",
        "\n",
        "\\begin{align}\\begin{bmatrix}\n",
        "  \\text{A} & \\text{B} & \\text{C} & \\ldots & \\text{X} & \\text{Y} & \\text{Z}\n",
        "  \\end{bmatrix}\n",
        "  \\Rightarrow\n",
        "  \\begin{bmatrix}\n",
        "  \\begin{bmatrix}\\text{A} \\\\ \\text{B} \\\\ \\text{C} \\\\ \\text{D} \\\\ \\text{E} \\\\ \\text{F}\\end{bmatrix} &\n",
        "  \\begin{bmatrix}\\text{G} \\\\ \\text{H} \\\\ \\text{I} \\\\ \\text{J} \\\\ \\text{K} \\\\ \\text{L}\\end{bmatrix} &\n",
        "  \\begin{bmatrix}\\text{M} \\\\ \\text{N} \\\\ \\text{O} \\\\ \\text{P} \\\\ \\text{Q} \\\\ \\text{R}\\end{bmatrix} &\n",
        "  \\begin{bmatrix}\\text{S} \\\\ \\text{T} \\\\ \\text{U} \\\\ \\text{V} \\\\ \\text{W} \\\\ \\text{X}\\end{bmatrix}\n",
        "  \\end{bmatrix}\\end{align}\n",
        "\n",
        "These columns are treated as independent by the model, which means that\n",
        "the dependence of ``G`` and ``F`` can not be learned, but allows more\n",
        "efficient batch processing.\n",
        "\n",
        "The structure of the resulting data set would be\n",
        "a \n",
        "Nbatches X Ntokens/Nbatches matrix with each cell holding an ID corresponding to a string in the vocabulary\n",
        "\n",
        "\n",
        "\n",
        "\n"
      ]
    },
    {
      "cell_type": "code",
      "metadata": {
        "id": "jsVvu3Dn5Q1a",
        "colab_type": "code",
        "colab": {}
      },
      "source": [
        "import torchtext\n",
        "from torchtext.data.utils import get_tokenizer\n",
        "TEXT = torchtext.data.Field(tokenize=get_tokenizer(\"spacy\"),\n",
        "                            init_token='<sos>',\n",
        "                            eos_token='<eos>',\n",
        "                            lower=True)\n",
        "train_txt, val_txt, test_txt = torchtext.datasets.WikiText2.splits(TEXT)\n",
        "TEXT.build_vocab(train_txt)\n",
        "device = torch.device(\"cuda\" if torch.cuda.is_available() else \"cpu\")\n",
        "\n",
        "def batchify(data, bsz):\n",
        "    data = TEXT.numericalize([data.examples[0].text])\n",
        "    # Divide the dataset into bsz parts.\n",
        "    nbatch = data.size(0) // bsz\n",
        "    # Trim off any extra elements that wouldn't cleanly fit (remainders).\n",
        "    data = data.narrow(0, 0, nbatch * bsz)\n",
        "    # Evenly divide the data across the bsz batches.\n",
        "    data = data.view(bsz, -1).t().contiguous()\n",
        "    return data.to(device)\n",
        "\n",
        "batch_size = 20\n",
        "eval_batch_size = 10\n",
        "train_data = batchify(train_txt, batch_size)\n",
        "val_data = batchify(val_txt, eval_batch_size)\n",
        "test_data = batchify(test_txt, eval_batch_size)"
      ],
      "execution_count": 0,
      "outputs": []
    },
    {
      "cell_type": "markdown",
      "metadata": {
        "id": "z4uixeIp8TE7",
        "colab_type": "text"
      },
      "source": [
        "Training the model\n",
        "====================\n",
        "\n",
        "\n"
      ]
    },
    {
      "cell_type": "markdown",
      "metadata": {
        "id": "mpdsjFr5AVt4",
        "colab_type": "text"
      },
      "source": [
        "\n",
        "\n",
        "```\n",
        "# This is formatted as code\n",
        "```\n",
        "\n",
        "``get_batch()`` function generates the input and target sequence for\n",
        "the transformer model. It subdivides the source data into chunks of\n",
        "length ``bptt``. For the language modeling task, the model needs the\n",
        "following words as ``Target``. For example, with a ``bptt`` value of 2,\n",
        "we’d get the following two Variables for ``i`` = 0:\n",
        "\n",
        "![](https://github.com/pytorch/tutorials/blob/master/_static/img/transformer_input_target.png?raw=true)\n",
        "\n",
        "\n",
        "It should be noted that the chunks are along dimension 0, consistent\n",
        "with the ``S`` dimension in the Transformer model. The batch dimension\n",
        "``N`` is along dimension 1.\n",
        "\n",
        "In other words:\n",
        "For each subsequence in the original text the target to it will be the following word:\n",
        "\n",
        "Lets say we have the sequence \"I like cats very much\" the data will pretty much be a represenation of:\n",
        "\n",
        "**Input**          **Target** \n",
        "\n",
        "\"I\"                  \"like\"\n",
        "\n",
        "\"I like\"           \"cats\"\n",
        "\n",
        "\"I like cats\" \"very\"\n",
        "\n",
        "\n"
      ]
    },
    {
      "cell_type": "code",
      "metadata": {
        "id": "LWZqgds8_A8Q",
        "colab_type": "code",
        "outputId": "3f946724-0a38-42a0-9139-9ed695d15a50",
        "colab": {
          "base_uri": "https://localhost:8080/",
          "height": 51
        }
      },
      "source": [
        "bptt = 35\n",
        "def get_batch(source, i):\n",
        "    seq_len = min(bptt, len(source) - 1 - i)\n",
        "    data = source[i:i+seq_len]\n",
        "    target = source[i+1:i+1+seq_len].view(-1)\n",
        "    return data, target\n",
        "\n",
        "data, targets = get_batch(train_data, 0) \n",
        "print(\"Data shape: \" + str(data.shape))\n",
        "print(\"Data shape: \" + str(targets.shape))"
      ],
      "execution_count": 13,
      "outputs": [
        {
          "output_type": "stream",
          "text": [
            "Data shape: torch.Size([35, 20])\n",
            "Data shape: torch.Size([700])\n"
          ],
          "name": "stdout"
        }
      ]
    },
    {
      "cell_type": "markdown",
      "metadata": {
        "id": "fdKGp3VY9S2u",
        "colab_type": "text"
      },
      "source": [
        "This splits input data into sort ngrams of size bptt (35) here.\n",
        "For each such ngram the target it the word following it in the text.\n",
        "\n",
        "We use [CrossEntropyLoss](https://pytorch.org/docs/master/nn.html?highlight=crossentropyloss#torch.nn.CrossEntropyLoss>) as loss function\n",
        "is applied to track the loss and [SGD](https://pytorch.org/docs/master/optim.html?highlight=sgd#torch.optim.SGD) implements stochastic gradient descent method as the optimizer. \n",
        "The initial learning rate is set to 5.0. [StepLR](https://pytorch.org/docs/master/optim.html?highlight=steplr#torch.optim.lr_scheduler.StepLR) is\n",
        "applied to adjust the learn rate through epochs. \n",
        "During the training, we use\n",
        "[nn.utils.clip_grad_norm](https://pytorch.org/docs/master/nn.html?highlight=nn%20utils%20clip_grad_norm#torch.nn.utils.clip_grad_norm_)\n",
        "function to scale all the gradient together to prevent exploding."
      ]
    },
    {
      "cell_type": "code",
      "metadata": {
        "id": "wQtLxjZp5gBC",
        "colab_type": "code",
        "colab": {}
      },
      "source": [
        "import time\n",
        "def train(model):\n",
        "    model.train() # Turn on the train mode\n",
        "    total_loss = 0.\n",
        "    start_time = time.time()\n",
        "    ntokens = len(TEXT.vocab.stoi)\n",
        "    for batch, i in enumerate(range(0, train_data.size(0) - 1, bptt)):\n",
        "        #data -> [seqlen X nbatch] torch.Size([35, 20])\n",
        "        #targets -> [nbatch * seqlen] torch.Size([700]\n",
        "        data, targets = get_batch(train_data, i)\n",
        "        #print(data[0:])\n",
        "        optimizer.zero_grad()\n",
        "        # print(data.shape)\n",
        "        # print(targets.shape)\n",
        "        output = model(data)\n",
        "        #print(output.shape)\n",
        "        loss = criterion(output.view(-1, ntokens), targets)\n",
        "        loss.backward()\n",
        "        torch.nn.utils.clip_grad_norm_(model.parameters(), 0.5)\n",
        "        optimizer.step()\n",
        "        #print(model.encoder.weight)\n",
        "        total_loss += loss.item()\n",
        "        log_interval = 200\n",
        "        if batch % log_interval == 0 and batch > 0:\n",
        "            cur_loss = total_loss / log_interval\n",
        "            elapsed = time.time() - start_time\n",
        "            print('| epoch {:3d} | {:5d}/{:5d} batches | '\n",
        "                  'lr {:02.2f} | ms/batch {:5.2f} | '\n",
        "                  'loss {:5.2f} | ppl {:8.2f}'.format(\n",
        "                    epoch, batch, len(train_data) // bptt, scheduler.get_lr()[0],\n",
        "                    elapsed * 1000 / log_interval,\n",
        "                    cur_loss, math.exp(cur_loss)))\n",
        "            total_loss = 0\n",
        "            start_time = time.time()\n",
        "    return model\n",
        "\n",
        "def evaluate(eval_model, data_source):\n",
        "    eval_model.eval() # Turn on the evaluation mode, this is important as it turns dropout off\n",
        "    total_loss = 0.\n",
        "    ntokens = len(TEXT.vocab.stoi)\n",
        "    with torch.no_grad():\n",
        "        for i in range(0, data_source.size(0) - 1, bptt):\n",
        "            data, targets = get_batch(data_source, i)\n",
        "            output = eval_model(data)\n",
        "            output_flat = output.view(-1, ntokens)\n",
        "            total_loss += len(data) * criterion(output_flat, targets).item()\n",
        "    return total_loss / (len(data_source) - 1)"
      ],
      "execution_count": 0,
      "outputs": []
    },
    {
      "cell_type": "markdown",
      "metadata": {
        "id": "hIlmvFpt-yQB",
        "colab_type": "text"
      },
      "source": [
        "\n",
        "Loop over epochs. Save the model if the validation loss is th\n",
        "e best\n",
        "we've seen so far. Adjust the learning rate after each epoch."
      ]
    },
    {
      "cell_type": "code",
      "metadata": {
        "id": "sQTy3GhP-Fjo",
        "colab_type": "code",
        "outputId": "beab4833-02fa-4030-83b5-8831f3a6f5b1",
        "colab": {
          "base_uri": "https://localhost:8080/",
          "height": 952
        }
      },
      "source": [
        "ntokens = len(TEXT.vocab.stoi) # the size of vocabulary\n",
        "emsize = 200 # embedding dimension\n",
        "nhid = 200 # the dimension of the feedforward network model in nn.TransformerEncoder\n",
        "nlayers = 2 # the number of nn.TransformerEncoderLayer in nn.TransformerEncoder\n",
        "nhead = 2 # the number of heads in the multiheadattention models\n",
        "dropout = 0.2 # the dropout value\n",
        "criterion = nn.CrossEntropyLoss()\n",
        "lr = 5.0 # learning rate\n",
        "do_print = False\n",
        "model = TransformerModelFromScratchAttention(ntokens, emsize, nhead, nhid, nlayers, dropout).to(device)\n",
        "optimizer = torch.optim.SGD(model.parameters(), lr=lr)\n",
        "scheduler = torch.optim.lr_scheduler.StepLR(optimizer, 1.0, gamma=0.95)\n",
        "\n",
        "\n",
        "best_val_loss = float(\"inf\")\n",
        "epochs = 3 # The number of epochs\n",
        "best_model = None\n",
        "\n",
        "for epoch in range(1, epochs + 1):\n",
        "    epoch_start_time = time.time()\n",
        "    model = train(model)    \n",
        "    val_loss = evaluate(model, val_data)\n",
        "    print('-' * 89)\n",
        "    print('| end of epoch {:3d} | time: {:5.2f}s | valid loss {:5.2f} | '\n",
        "          'valid ppl {:8.2f}'.format(epoch, (time.time() - epoch_start_time),\n",
        "                                     val_loss, math.exp(val_loss)))\n",
        "    print('-' * 89)\n",
        "\n",
        "    if val_loss < best_val_loss:\n",
        "        best_val_loss = val_loss\n",
        "        best_model = model\n",
        "\n",
        "    scheduler.step()"
      ],
      "execution_count": 30,
      "outputs": [
        {
          "output_type": "stream",
          "text": [
            "miao\n",
            "| epoch   1 |   200/ 3195 batches | lr 5.00 | ms/batch 19.41 | loss  6.89 | ppl   984.81\n",
            "| epoch   1 |   400/ 3195 batches | lr 5.00 | ms/batch 18.67 | loss  6.02 | ppl   411.55\n",
            "| epoch   1 |   600/ 3195 batches | lr 5.00 | ms/batch 18.12 | loss  5.75 | ppl   312.79\n",
            "| epoch   1 |   800/ 3195 batches | lr 5.00 | ms/batch 17.56 | loss  5.56 | ppl   258.71\n",
            "| epoch   1 |  1000/ 3195 batches | lr 5.00 | ms/batch 18.71 | loss  5.58 | ppl   265.93\n",
            "| epoch   1 |  1200/ 3195 batches | lr 5.00 | ms/batch 19.17 | loss  5.49 | ppl   243.38\n",
            "| epoch   1 |  1400/ 3195 batches | lr 5.00 | ms/batch 18.25 | loss  5.47 | ppl   237.84\n",
            "| epoch   1 |  1600/ 3195 batches | lr 5.00 | ms/batch 18.13 | loss  5.36 | ppl   213.69\n",
            "| epoch   1 |  1800/ 3195 batches | lr 5.00 | ms/batch 17.45 | loss  5.36 | ppl   211.98\n",
            "| epoch   1 |  2000/ 3195 batches | lr 5.00 | ms/batch 18.85 | loss  5.34 | ppl   208.09\n",
            "| epoch   1 |  2200/ 3195 batches | lr 5.00 | ms/batch 18.57 | loss  5.26 | ppl   193.08\n",
            "| epoch   1 |  2400/ 3195 batches | lr 5.00 | ms/batch 18.54 | loss  5.15 | ppl   171.87\n",
            "| epoch   1 |  2600/ 3195 batches | lr 5.00 | ms/batch 17.66 | loss  5.21 | ppl   183.57\n",
            "| epoch   1 |  2800/ 3195 batches | lr 5.00 | ms/batch 18.01 | loss  5.18 | ppl   178.08\n",
            "| epoch   1 |  3000/ 3195 batches | lr 5.00 | ms/batch 19.31 | loss  5.08 | ppl   161.07\n",
            "-----------------------------------------------------------------------------------------\n",
            "| end of epoch   1 | time: 62.63s | valid loss  4.77 | valid ppl   117.70\n",
            "-----------------------------------------------------------------------------------------\n",
            "| epoch   2 |   200/ 3195 batches | lr 4.75 | ms/batch 18.51 | loss  4.95 | ppl   140.55\n",
            "| epoch   2 |   400/ 3195 batches | lr 4.75 | ms/batch 18.33 | loss  4.94 | ppl   139.83\n",
            "| epoch   2 |   600/ 3195 batches | lr 4.75 | ms/batch 19.67 | loss  4.80 | ppl   121.10\n",
            "| epoch   2 |   800/ 3195 batches | lr 4.75 | ms/batch 19.00 | loss  4.75 | ppl   115.15\n",
            "| epoch   2 |  1000/ 3195 batches | lr 4.75 | ms/batch 18.69 | loss  4.83 | ppl   124.85\n",
            "| epoch   2 |  1200/ 3195 batches | lr 4.75 | ms/batch 18.81 | loss  4.78 | ppl   119.25\n",
            "| epoch   2 |  1400/ 3195 batches | lr 4.75 | ms/batch 19.00 | loss  4.83 | ppl   124.70\n",
            "| epoch   2 |  1600/ 3195 batches | lr 4.75 | ms/batch 19.30 | loss  4.76 | ppl   116.61\n",
            "| epoch   2 |  1800/ 3195 batches | lr 4.75 | ms/batch 19.31 | loss  4.79 | ppl   120.33\n",
            "| epoch   2 |  2000/ 3195 batches | lr 4.75 | ms/batch 18.44 | loss  4.80 | ppl   121.13\n",
            "| epoch   2 |  2200/ 3195 batches | lr 4.75 | ms/batch 18.57 | loss  4.74 | ppl   114.36\n",
            "| epoch   2 |  2400/ 3195 batches | lr 4.75 | ms/batch 17.26 | loss  4.64 | ppl   103.26\n",
            "| epoch   2 |  2600/ 3195 batches | lr 4.75 | ms/batch 18.81 | loss  4.72 | ppl   111.88\n",
            "| epoch   2 |  2800/ 3195 batches | lr 4.75 | ms/batch 18.77 | loss  4.70 | ppl   110.41\n",
            "| epoch   2 |  3000/ 3195 batches | lr 4.75 | ms/batch 18.65 | loss  4.64 | ppl   103.70\n",
            "-----------------------------------------------------------------------------------------\n",
            "| end of epoch   2 | time: 63.24s | valid loss  4.57 | valid ppl    96.61\n",
            "-----------------------------------------------------------------------------------------\n",
            "| epoch   3 |   200/ 3195 batches | lr 4.51 | ms/batch 19.48 | loss  4.57 | ppl    96.66\n",
            "| epoch   3 |   400/ 3195 batches | lr 4.51 | ms/batch 19.38 | loss  4.59 | ppl    98.34\n",
            "| epoch   3 |   600/ 3195 batches | lr 4.51 | ms/batch 18.92 | loss  4.45 | ppl    85.94\n",
            "| epoch   3 |   800/ 3195 batches | lr 4.51 | ms/batch 18.41 | loss  4.42 | ppl    83.31\n",
            "| epoch   3 |  1000/ 3195 batches | lr 4.51 | ms/batch 17.73 | loss  4.51 | ppl    90.60\n",
            "| epoch   3 |  1200/ 3195 batches | lr 4.51 | ms/batch 19.00 | loss  4.47 | ppl    87.05\n",
            "| epoch   3 |  1400/ 3195 batches | lr 4.51 | ms/batch 18.89 | loss  4.52 | ppl    91.71\n",
            "| epoch   3 |  1600/ 3195 batches | lr 4.51 | ms/batch 18.37 | loss  4.46 | ppl    86.47\n",
            "| epoch   3 |  1800/ 3195 batches | lr 4.51 | ms/batch 18.08 | loss  4.50 | ppl    90.07\n",
            "| epoch   3 |  2000/ 3195 batches | lr 4.51 | ms/batch 18.17 | loss  4.52 | ppl    91.94\n",
            "| epoch   3 |  2200/ 3195 batches | lr 4.51 | ms/batch 18.90 | loss  4.46 | ppl    86.47\n",
            "| epoch   3 |  2400/ 3195 batches | lr 4.51 | ms/batch 19.34 | loss  4.35 | ppl    77.55\n",
            "| epoch   3 |  2600/ 3195 batches | lr 4.51 | ms/batch 18.73 | loss  4.44 | ppl    84.70\n",
            "| epoch   3 |  2800/ 3195 batches | lr 4.51 | ms/batch 18.85 | loss  4.44 | ppl    84.45\n",
            "| epoch   3 |  3000/ 3195 batches | lr 4.51 | ms/batch 18.66 | loss  4.38 | ppl    79.70\n",
            "-----------------------------------------------------------------------------------------\n",
            "| end of epoch   3 | time: 63.73s | valid loss  4.45 | valid ppl    85.72\n",
            "-----------------------------------------------------------------------------------------\n"
          ],
          "name": "stdout"
        }
      ]
    },
    {
      "cell_type": "code",
      "metadata": {
        "id": "iAMUlVHx-05C",
        "colab_type": "code",
        "colab": {
          "base_uri": "https://localhost:8080/",
          "height": 232
        },
        "outputId": "a9103d7d-6193-4f1e-9cb4-c4d44cda9d21"
      },
      "source": [
        "test_loss = evaluate(best_model, test_data)\n",
        "print('=' * 89)\n",
        "print('| End of training | test loss {:5.2f} | test ppl {:8.2f}'.format(\n",
        "    test_loss, math.exp(test_loss)))\n",
        "print('=' * 89)"
      ],
      "execution_count": 16,
      "outputs": [
        {
          "output_type": "error",
          "ename": "NameError",
          "evalue": "ignored",
          "traceback": [
            "\u001b[0;31m---------------------------------------------------------------------------\u001b[0m",
            "\u001b[0;31mNameError\u001b[0m                                 Traceback (most recent call last)",
            "\u001b[0;32m<ipython-input-16-ef381b7c3cc0>\u001b[0m in \u001b[0;36m<module>\u001b[0;34m()\u001b[0m\n\u001b[0;32m----> 1\u001b[0;31m \u001b[0mtest_loss\u001b[0m \u001b[0;34m=\u001b[0m \u001b[0mevaluate\u001b[0m\u001b[0;34m(\u001b[0m\u001b[0mbest_model\u001b[0m\u001b[0;34m,\u001b[0m \u001b[0mtest_data\u001b[0m\u001b[0;34m)\u001b[0m\u001b[0;34m\u001b[0m\u001b[0;34m\u001b[0m\u001b[0m\n\u001b[0m\u001b[1;32m      2\u001b[0m \u001b[0mprint\u001b[0m\u001b[0;34m(\u001b[0m\u001b[0;34m'='\u001b[0m \u001b[0;34m*\u001b[0m \u001b[0;36m89\u001b[0m\u001b[0;34m)\u001b[0m\u001b[0;34m\u001b[0m\u001b[0;34m\u001b[0m\u001b[0m\n\u001b[1;32m      3\u001b[0m print('| End of training | test loss {:5.2f} | test ppl {:8.2f}'.format(\n\u001b[1;32m      4\u001b[0m     test_loss, math.exp(test_loss)))\n\u001b[1;32m      5\u001b[0m \u001b[0mprint\u001b[0m\u001b[0;34m(\u001b[0m\u001b[0;34m'='\u001b[0m \u001b[0;34m*\u001b[0m \u001b[0;36m89\u001b[0m\u001b[0;34m)\u001b[0m\u001b[0;34m\u001b[0m\u001b[0;34m\u001b[0m\u001b[0m\n",
            "\u001b[0;31mNameError\u001b[0m: name 'best_model' is not defined"
          ]
        }
      ]
    },
    {
      "cell_type": "markdown",
      "metadata": {
        "id": "NhRyIiidC4T5",
        "colab_type": "text"
      },
      "source": [
        "Building the transformer-encoder\n",
        "================================\n"
      ]
    },
    {
      "cell_type": "markdown",
      "metadata": {
        "id": "NEQhJJVRD1Ay",
        "colab_type": "text"
      },
      "source": [
        "\n",
        "![](https://github.com/pytorch/tutorials/blob/master/_static/img/transformer_architecture.jpg?raw=true)"
      ]
    },
    {
      "cell_type": "code",
      "metadata": {
        "id": "ySKj03cNE1o1",
        "colab_type": "code",
        "colab": {}
      },
      "source": [
        "def clones(module, N):\n",
        "    \"Produce N identical layers.\"\n",
        "    return nn.ModuleList([copy.deepcopy(module) for _ in range(N)])\n"
      ],
      "execution_count": 0,
      "outputs": []
    },
    {
      "cell_type": "code",
      "metadata": {
        "id": "8e2vjQvmE4QG",
        "colab_type": "code",
        "colab": {}
      },
      "source": [
        "class Encoder(nn.Module):\n",
        "    \"Core encoder is a stack of N layers\"\n",
        "    def __init__(self, layer, N):\n",
        "        super(Encoder, self).__init__()\n",
        "        self.layers = clones(layer, N)\n",
        "        self.norm = LayerNorm(layer.size)\n",
        "        \n",
        "    def forward(self, x, mask):\n",
        "        \"Pass the input (and mask) through each layer in turn.\"\n",
        "        for layer in self.layers:\n",
        "            x = layer(x, mask)\n",
        "        return self.norm(x)"
      ],
      "execution_count": 0,
      "outputs": []
    },
    {
      "cell_type": "markdown",
      "metadata": {
        "id": "tlVflhuPFAGu",
        "colab_type": "text"
      },
      "source": [
        "We employ a residual connection [(cite)](he2016deep) around each of the two sub-layers, followed by layer normalization [(cite)](layernorm2016).  "
      ]
    },
    {
      "cell_type": "code",
      "metadata": {
        "id": "9oDvOYRBE6jY",
        "colab_type": "code",
        "colab": {}
      },
      "source": [
        "class LayerNorm(nn.Module):\n",
        "    \"Construct a layernorm module (See citation for details).\"\n",
        "    def __init__(self, features, eps=1e-6):\n",
        "        super(LayerNorm, self).__init__()\n",
        "        self.a_2 = nn.Parameter(torch.ones(features))\n",
        "        self.b_2 = nn.Parameter(torch.zeros(features))\n",
        "        self.eps = eps\n",
        "\n",
        "    def forward(self, x):\n",
        "        mean = x.mean(-1, keepdim=True)\n",
        "        std = x.std(-1, keepdim=True)\n",
        "        return self.a_2 * (x - mean) / (std + self.eps) + self.b_2"
      ],
      "execution_count": 0,
      "outputs": []
    },
    {
      "cell_type": "markdown",
      "metadata": {
        "id": "ASRVqICYFJ_5",
        "colab_type": "text"
      },
      "source": [
        "That is, the output of each sub-layer is $\\mathrm{LayerNorm}(x + \\mathrm{Sublayer}(x))$, where $\\mathrm{Sublayer}(x)$ is the function implemented by the sub-layer itself.  We apply dropout [(cite)](srivastava2014dropout) to the output of each sub-layer, before it is added to the sub-layer input and normalized.  \n",
        "\n",
        "To facilitate these residual connections, all sub-layers in the model, as well as the embedding layers, produce outputs of dimension $d_{\\text{model}}=512$.  "
      ]
    },
    {
      "cell_type": "code",
      "metadata": {
        "id": "eIEu3HpTC7hy",
        "colab_type": "code",
        "colab": {}
      },
      "source": [
        "class SublayerConnection(nn.Module):\n",
        "    \"\"\"\n",
        "    A residual connection followed by a layer norm.\n",
        "    Note for code simplicity we apply the norm first as opposed to last.\n",
        "    \"\"\"\n",
        "    def __init__(self, size, dropout):\n",
        "        super(SublayerConnection, self).__init__()\n",
        "        self.norm = LayerNorm(size)\n",
        "        self.dropout = nn.Dropout(dropout)\n",
        "\n",
        "    def forward(self, x, sublayer):\n",
        "        \"Apply residual connection to any sublayer function that maintains the same size.\"       \n",
        "        return x + self.dropout(sublayer(self.norm(x)))"
      ],
      "execution_count": 0,
      "outputs": []
    },
    {
      "cell_type": "markdown",
      "metadata": {
        "id": "WDY1LACGFaOu",
        "colab_type": "text"
      },
      "source": [
        "Each layer has two sub-layers. The first is a multi-head self-attention mechanism, and the second is a simple, position-wise fully connected feed-forward network."
      ]
    },
    {
      "cell_type": "code",
      "metadata": {
        "id": "2cnXSTOfFXMH",
        "colab_type": "code",
        "colab": {}
      },
      "source": [
        "class EncoderLayer(nn.Module):\n",
        "    \"Encoder is made up of two sublayers, self-attn and feed forward (defined below)\"\n",
        "    def __init__(self, size, self_attn, feed_forward, dropout):\n",
        "        super(EncoderLayer, self).__init__()\n",
        "        self.self_attn = self_attn\n",
        "        self.feed_forward = feed_forward\n",
        "        self.sublayer = clones(SublayerConnection(size, dropout), 2)\n",
        "        self.size = size\n",
        "\n",
        "    def forward(self, x, mask):    \n",
        "        \"Follow Figure 1 (left) for connections.\"        \n",
        "        x = self.sublayer[0](x, lambda x: self.self_attn(x, x, x, attn_mask=mask)[0])\n",
        "        return self.sublayer[1](x, self.feed_forward)"
      ],
      "execution_count": 0,
      "outputs": []
    },
    {
      "cell_type": "code",
      "metadata": {
        "id": "BEVcOk-9Fcot",
        "colab_type": "code",
        "colab": {}
      },
      "source": [
        "def subsequent_mask(size):\n",
        "    \"Mask out subsequent positions.\"\n",
        "    attn_shape = (1, size, size)\n",
        "    subsequent_mask = np.triu(np.ones(attn_shape), k=1).astype('uint8')\n",
        "    return torch.from_numpy(subsequent_mask) == 0"
      ],
      "execution_count": 0,
      "outputs": []
    },
    {
      "cell_type": "markdown",
      "metadata": {
        "id": "0b2-o_EsFvhh",
        "colab_type": "text"
      },
      "source": [
        "We will use masking to make sure the model uses only previous tokens for prediction (todo: move to attention part, use actual function/)"
      ]
    },
    {
      "cell_type": "code",
      "metadata": {
        "id": "MxAXtBhjFlyP",
        "colab_type": "code",
        "outputId": "e0796c9f-0cba-487f-c4cd-da748f47c3df",
        "colab": {
          "base_uri": "https://localhost:8080/",
          "height": 337
        }
      },
      "source": [
        "# The attention mask shows the position each tgt word (row) is allowed to look at (column).\n",
        "# Words are blocked for attending to future words during training. \n",
        "plt.figure(figsize=(5,5))\n",
        "plt.imshow(subsequent_mask(20)[0])"
      ],
      "execution_count": 23,
      "outputs": [
        {
          "output_type": "execute_result",
          "data": {
            "text/plain": [
              "<matplotlib.image.AxesImage at 0x7f6c90ef9d68>"
            ]
          },
          "metadata": {
            "tags": []
          },
          "execution_count": 23
        },
        {
          "output_type": "display_data",
          "data": {
            "image/png": "[encoded data removed]",
            "text/plain": [
              "<Figure size 360x360 with 1 Axes>"
            ]
          },
          "metadata": {
            "tags": []
          }
        }
      ]
    },
    {
      "cell_type": "markdown",
      "metadata": {
        "id": "qHzGV4hrGtBF",
        "colab_type": "text"
      },
      "source": [
        "Self Attention\n",
        "=========\n",
        "The real meat of the transformer model is the self attention part of it.\n",
        "\n",
        "From [the illustrated transformer](http://jalammar.github.io/illustrated-transformer/):\n",
        "\n",
        "\"Don’t be fooled by me throwing around the word “self-attention” like it’s a concept everyone should be familiar with. I had personally never came across the concept until reading the Attention is All You Need paper. Let us distill how it works.\n",
        "\n",
        "Say the following sentence is an input sentence we want to translate:\n",
        "\n",
        "*”The animal didn't cross the street because it was too tired”*\n",
        "\n",
        "What does “it” in this sentence refer to? Is it referring to the street or to the animal? It’s a simple question to a human, but not as simple to an algorithm.\n",
        "\n",
        "When the model is processing the word “it”, self-attention allows it to associate “it” with “animal”.\n",
        "\n",
        "As the model processes each word (each position in the input sequence), self attention allows it to look at other positions in the input sequence for clues that can help lead to a better encoding for this word.\n",
        "\n",
        "If you’re familiar with RNNs, think of how maintaining a hidden state allows an RNN to incorporate its representation of previous words/vectors it has processed with the current one it’s processing. Self-attention is the method the Transformer uses to bake the “understanding” of other relevant words into the one we’re currently processing.\"\n",
        "\n",
        "\n",
        "\n",
        "\n"
      ]
    },
    {
      "cell_type": "markdown",
      "metadata": {
        "id": "roP6aVYsB_ra",
        "colab_type": "text"
      },
      "source": [
        "#Illustrating self attention\n",
        "\n",
        "In self attention every token is represented as a weighted sum of all other vectors in the sequence (I ncluding itself)\n",
        "\n",
        "<img width=\"300\" src=\"http://jalammar.github.io/images/t/self-attention-matrix-calculation.png\">\n",
        "\n",
        "Every row in the X matrix corresponds to a word in the input sentence. We again see the difference in size of the embedding vector (512, or 4 boxes in the figure), and the q/k/v vectors (64, or 3 boxes in the figure)\n",
        "\n",
        "\n",
        "We then multiply Wq and Wk.T()\n",
        "This give us a Seq X Seq matrix in which every Aij in which every cell aij is the weight that the value vector of token j should have for token\n",
        "\n",
        "<img width=\"400\" src=\"http://jalammar.github.io/images/t/self-attention-matrix-calculation-2.png\">\n",
        "\n",
        "This is then multiplied by the the value matrix to give us the weighted sum\n"
      ]
    },
    {
      "cell_type": "markdown",
      "metadata": {
        "id": "dHkarTOTvSH6",
        "colab_type": "text"
      },
      "source": [
        "### Calculating Attention                                                                                                                                                                                                                         \n",
        "An attention function can be described as mapping a query and a set of key-value pairs to an output, where the query, keys, values, and output are all vectors.  The output is computed as a weighted sum of the values, where the weight assigned to each value is computed by a compatibility function of the query with the corresponding key.                                                                                                                                                                                                                                                                                           \n",
        "\n",
        "We call our particular attention \"Scaled Dot-Product Attention\".   The input consists of queries and keys of dimension $d_k$, and values of dimension $d_v$.  We compute the dot products of the query with all keys, divide each by $\\sqrt{d_k}$, and apply a softmax function to obtain the weights on the values.                                                                                                         \n",
        "<img width=\"150px\" src=\"https://nlp.seas.harvard.edu/images/the-annotated-transformer_33_0.png\">\n",
        "\n",
        "In practice, we compute the attention function on a set of queries simultaneously, packed together into a matrix $Q$.   The keys and values are also packed together into matrices $K$ and $V$.  We compute the matrix of outputs as:                      \n",
        "                                                                 \n",
        "$$                                                                         \n",
        "   \\mathrm{Attention}(Q, K, V) = \\mathrm{softmax}(\\frac{QK^T}{\\sqrt{d_k}})V               \n",
        "$$                     "
      ]
    },
    {
      "cell_type": "code",
      "metadata": {
        "id": "i0LAAMsrsyA9",
        "colab_type": "code",
        "colab": {}
      },
      "source": [
        "def calculatue_attention(queries, keys, values, mask, dropout):\n",
        "    head_dim = queries.shape[3]\n",
        "    #keys * queries.T * values\n",
        "    #Dbatch X nhead X Dseq X head_dim    \n",
        "    weights = torch.matmul(queries, keys.transpose(-2, -1))\n",
        "    #Dbatch X nhead X Dseq D X Dseq D\n",
        "    weights_scaled = weights / math.sqrt(head_dim)\n",
        "    if mask is not None:\n",
        "        weights_scaled = weights_scaled.masked_fill(mask == 0, -1e9)\n",
        "    weights_normed = F.softmax(weights_scaled, dim = -1)\n",
        "    if dropout:\n",
        "      weights_normed = F.dropout(weights_normed)\n",
        "    attended_keys = torch.matmul(weights_normed, values)\n",
        "    #Dbatch X nhead X Dseq D X head_dim\n",
        "    return attended_keys"
      ],
      "execution_count": 0,
      "outputs": []
    },
    {
      "cell_type": "markdown",
      "metadata": {
        "id": "sNVAatVuvPAR",
        "colab_type": "text"
      },
      "source": [
        "### Building the multi-head attention layer\n",
        "# Multi-Head Attention                                                                                                                                                                                        \n",
        "Instead of performing a single attention function with $d_{\\text{model}}$-dimensional keys, values and queries, we found it beneficial to linearly project the queries, keys and values $h$ times with different, learned linear projections to $d_k$, $d_k$ and $d_v$ dimensions, respectively.                                                                                                                                                                                                   \n",
        "On each of these projected versions of queries, keys and values we then perform the attention function in parallel, yielding $d_v$-dimensional output values. These are concatenated and once again projected, resulting in the final values:\n",
        "\n",
        "<img width=\"270px\" src=\"https://nlp.seas.harvard.edu/images/ModalNet-20.png\">\n",
        "                                                                                                                                      \n",
        "**Multi-head attention allows the model to jointly attend to information from different representation subspaces at different positions.** With a single attention head, averaging inhibits this.            \n",
        "In other words, this allows different features to attend to other words.\n",
        "For example: \n",
        "\n",
        "<img width=\"270px\" src=\"http://jalammar.github.io/images/t/transformer_self-attention_visualization_2.png\">\n",
        "\n",
        "Let's do a little excercize:\n",
        "This is ExBert which is a framework for visualizing BERT:\n",
        "\n",
        "http://exbert.net/exBERT.html\n",
        "\n",
        "We can see how the attention heads are affecting the prediction by turning them on and off\n",
        "\n"
      ]
    },
    {
      "cell_type": "code",
      "metadata": {
        "id": "Ej0NZgdxvPKl",
        "colab_type": "code",
        "outputId": "ed7f2ba7-24d4-45d5-ec5b-fcc7237f4f8a",
        "colab": {
          "base_uri": "https://localhost:8080/",
          "height": 34
        }
      },
      "source": [
        "import pdb; \n",
        "class MyMultiHeadAttention(nn.Module):\n",
        "  def __init__(self, embed_dim, nhead, dropout):\n",
        "    super(MyMultiHeadAttention, self).__init__()\n",
        "    if do_print:\n",
        "      print(\"MyMultiHeadAttention _init\")\n",
        "    self.embed_dim = embed_dim\n",
        "    self.nhead = nhead\n",
        "    self.dropout = dropout\n",
        "    self.queries_linear = nn.Linear(embed_dim, embed_dim)\n",
        "    self.keys_linear = nn.Linear(embed_dim, embed_dim)\n",
        "    self.values_linear = nn.Linear(embed_dim, embed_dim)\n",
        "    self.final_linear = nn.Linear(embed_dim, embed_dim)\n",
        "    self.head_dim = embed_dim // nhead\n",
        "\n",
        "  \"\"\"\n",
        "  sequence_batch: Dseq X Dbatch D X embed_dim\n",
        "  keys, values: duplicates of sequence_batch, here for compatibility reasons\n",
        "  attn_max: a Dseq X Dseq matrix \n",
        "\n",
        "  \"\"\"  \n",
        "  def forward(self, sequence_batch, keys, values, attn_mask=None):\n",
        "    \"Implements Figure 2\"\n",
        "    #Sequence: Dseq X Dbatch D X embed_dim\n",
        "    sequence_batch = sequence_batch.transpose(0, 1)\n",
        "    #Sequence: Dbatch X DbatchDseq D X embed_dim\n",
        "    #pdb.set_trace()    \n",
        "    batch_size = sequence_batch.size(0)\n",
        "    queries, keys, values = [linear(sequence_batch) for linear in [self.queries_linear, self.keys_linear, self.values_linear]]\n",
        "    #divide into attention heads:\n",
        "    #Dbatch X nhead X Dseq D X head_dim\n",
        "    queries, keys, values = [attention_part.view(batch_size, -1, self.nhead, self.head_dim).transpose(1,2) for attention_part in [queries, keys, values]]\n",
        "    attended_heads = calculatue_attention(queries, keys, values, attn_mask, self.dropout)\n",
        "    #concat heads back to \n",
        "    #Dbatch X Dseq D X embed_dim\n",
        "    #\n",
        "    if do_print:\n",
        "      print(\"attended_heads.shape:\" + str(attended_heads.shape))\n",
        "    concated_heads = attended_heads.transpose(1, 2)\\\n",
        "    .contiguous()\\\n",
        "    .view(batch_size, -1, self.embed_dim)\n",
        "    concated_result = self.final_linear(concated_heads) # \n",
        "    return concated_result.transpose(0,1)\n",
        "  \n",
        "\n",
        "\n",
        "def test_multi_head_attention():\n",
        "  attention = MyMultiHeadAttention(50, 5, 0.1)\n",
        "  mock_batch = torch.randn((5, 10, 50))\n",
        "  result = attention(mock_batch, mock_batch, mock_batch, attn_mask =None)\n",
        "  print(result.size())\n",
        "test_multi_head_attention()"
      ],
      "execution_count": 25,
      "outputs": [
        {
          "output_type": "stream",
          "text": [
            "torch.Size([5, 10, 50])\n"
          ],
          "name": "stdout"
        }
      ]
    },
    {
      "cell_type": "code",
      "metadata": {
        "id": "Gt_OcTndGr0N",
        "colab_type": "code",
        "colab": {}
      },
      "source": [
        ""
      ],
      "execution_count": 0,
      "outputs": []
    },
    {
      "cell_type": "code",
      "metadata": {
        "id": "B_49alDQI3-a",
        "colab_type": "code",
        "colab": {}
      },
      "source": [
        ""
      ],
      "execution_count": 0,
      "outputs": []
    },
    {
      "cell_type": "markdown",
      "metadata": {
        "id": "0z5p1JmKKAXf",
        "colab_type": "text"
      },
      "source": [
        "## Position-wise Feed-Forward Networks                                                                                                                                                                                                                                                                                                                                                             \n",
        "                                                                                                                                                                                                                                                                                                                                                                                                                                                                                          \n",
        "In addition to attention sub-layers, each of the layers in our encoder and decoder contains a fully connected feed-forward network, which is applied to each position separately and identically.  This consists of two linear transformations with a ReLU activation in between.\n",
        "\n",
        "$$\\mathrm{FFN}(x)=\\max(0, xW_1 + b_1) W_2 + b_2$$                                                                                                                                                                                                                                                         \n",
        "                                                                                                                                                                                                                                                        \n",
        "While the linear transformations are the same across different positions, they use different parameters from layer to layer. Another way of describing this is as two convolutions with kernel size 1.  The dimensionality of input and output is $d_{\\text{model}}=512$, and the inner-layer has dimensionality $d_{ff}=2048$. "
      ]
    },
    {
      "cell_type": "code",
      "metadata": {
        "id": "vQkY70qWKCea",
        "colab_type": "code",
        "colab": {}
      },
      "source": [
        "class PositionwiseFeedForward(nn.Module):\n",
        "    \"Implements FFN equation.\"\n",
        "    def __init__(self, d_model, d_ff, dropout=0.1):\n",
        "        super(PositionwiseFeedForward, self).__init__()\n",
        "        # Torch linears have a `b` by default. \n",
        "        self.w_1 = nn.Linear(d_model, d_ff)\n",
        "        self.w_2 = nn.Linear(d_ff, d_model)\n",
        "        self.dropout = nn.Dropout(dropout)\n",
        "\n",
        "    def forward(self, x):\n",
        "        return self.w_2(self.dropout(F.relu(self.w_1(x))))"
      ],
      "execution_count": 0,
      "outputs": []
    },
    {
      "cell_type": "markdown",
      "metadata": {
        "id": "V-Mq3iZ8JPwf",
        "colab_type": "text"
      },
      "source": [
        "## Positional Encoding                                                                                                                             \n",
        "Since our model contains no recurrence and no convolution, in order for the model to make use of the order of the sequence, we must inject some information about the relative or absolute position of the tokens in the sequence.  To this end, we add \"positional encodings\" to the input embeddings at the bottoms of the encoder and decoder stacks.  The positional encodings have the same dimension $d_{\\text{model}}$ as the embeddings, so that the two can be summed.   There are many choices of positional encodings, learned and fixed [(cite)](JonasFaceNet2017). \n",
        "\n",
        "In this work, we use sine and cosine functions of different frequencies:                                                                                                                                                                                                                      *italicized text*                                                                                                                                                                                                                                                                                                            \n",
        "$$                                                                                                                                                                                                                                                                                                                                                                                                                                                                            \n",
        "    PE_{(pos,2i)} = sin(pos / 10000^{2i/d_{\\text{model}}}) \\\\                                                                                                                                                                                                                                                                                                                                                                                                                                      \n",
        "    PE_{(pos,2i+1)} = cos(pos / 10000^{2i/d_{\\text{model}}})                                                                                                                                                                                                                                                                                                                                                                                                                                       \n",
        "$$                                                                                                                                                                                                                                                        \n",
        "where $pos$ is the position and $i$ is the dimension.  That is, each dimension of the positional encoding corresponds to a sinusoid.  The wavelengths form a geometric progression from $2\\pi$ to $10000 \\cdot 2\\pi$.  We chose this function because we hypothesized it would allow the model to easily learn to attend by relative positions, since for any fixed offset $k$, $PE_{pos+k}$ can be represented as a linear function of $PE_{pos}$. \n",
        "\n",
        "In addition, we apply dropout to the sums of the embeddings and the positional encodings in both the encoder and decoder stacks.  For the base model, we use a rate of $P_{drop}=0.1$. \n",
        "\n",
        "This [blog post](https://timodenk.com/blog/linear-relationships-in-the-transformers-positional-encoding/) explains why this works                                                                                                                                                                                                                                                    \n"
      ]
    },
    {
      "cell_type": "code",
      "metadata": {
        "id": "ban5-r7AJQFc",
        "colab_type": "code",
        "colab": {}
      },
      "source": [
        "class PositionalEncoding(nn.Module):\n",
        "    \"Implement the PE function.\"\n",
        "    def __init__(self, d_model, dropout, max_len=5000):\n",
        "        super(PositionalEncoding, self).__init__()\n",
        "        self.dropout = nn.Dropout(p=dropout)\n",
        "        \n",
        "        # Compute the positional encodings once in log space.\n",
        "        pe = torch.zeros(max_len, d_model)\n",
        "        position = torch.arange(0, max_len).unsqueeze(1)\n",
        "        div_term = torch.exp(torch.arange(0, d_model, 2) *\n",
        "                             -(math.log(10000.0) / d_model))\n",
        "        pe[:, 0::2] = torch.sin(position * div_term)\n",
        "        pe[:, 1::2] = torch.cos(position * div_term)\n",
        "        pe = pe.unsqueeze(0)\n",
        "        self.register_buffer('pe', pe)\n",
        "        \n",
        "    def forward(self, x):\n",
        "        x = x + Variable(self.pe[:, :x.size(1)], requires_grad=False)\n",
        "        return self.dropout(x)"
      ],
      "execution_count": 0,
      "outputs": []
    },
    {
      "cell_type": "code",
      "metadata": {
        "id": "ekKq7y6hJVvs",
        "colab_type": "code",
        "outputId": "03ab29de-5b47-475d-d817-8354a15e4fd6",
        "colab": {
          "base_uri": "https://localhost:8080/",
          "height": 320
        }
      },
      "source": [
        "# The positional encoding will add in a sine wave based on position.\n",
        "# The frequency and offset of the wave is different for each dimension.\n",
        "plt.figure(figsize=(15, 5))\n",
        "pe = PositionalEncoding(20, 0)\n",
        "y = pe.forward(Variable(torch.zeros(1, 100, 20)))\n",
        "plt.plot(np.arange(100), y[0, :, 4:8].data.numpy())\n",
        "plt.legend([\"dim %d\"%p for p in [4,5,6,7]])\n",
        "None"
      ],
      "execution_count": 28,
      "outputs": [
        {
          "output_type": "display_data",
          "data": {
            "image/png": "[encoded data removed]",
            "text/plain": [
              "<Figure size 1080x360 with 1 Axes>"
            ]
          },
          "metadata": {
            "tags": []
          }
        }
      ]
    },
    {
      "cell_type": "markdown",
      "metadata": {
        "id": "C-2ZgklL8p66",
        "colab_type": "text"
      },
      "source": [
        "Putting it all together\n",
        "======================"
      ]
    },
    {
      "cell_type": "code",
      "metadata": {
        "id": "x1J4-dXYJXXF",
        "colab_type": "code",
        "colab": {}
      },
      "source": [
        "import math\n",
        "import torch\n",
        "import torch.nn as nn\n",
        "import torch.nn.functional as F\n",
        "\n",
        "class TransformerModelFromScratchAttention(nn.Module):\n",
        "\n",
        "    def __init__(self, ntoken, ninp, nhead, nhid, nlayers, dropout=0.5):\n",
        "        super(TransformerModelFromScratchAttention, self).__init__()\n",
        "        print(\"miao\")\n",
        "        #from torch.nn import TransformerEncoder, TransformerEncoderLayer\n",
        "        self.model_type = 'Transformer'\n",
        "        self.src_mask = None\n",
        "        self.pos_encoder = PositionalEncoding(ninp, dropout)\n",
        "\n",
        "        c = copy.deepcopy\n",
        "     \n",
        "        attn = MyMultiHeadAttention(ninp, nhead, dropout)    \n",
        "        ff  = PositionwiseFeedForward(ninp, nhid, dropout)\n",
        "\n",
        "        self.transformer_encoder = Encoder(EncoderLayer(ninp, c(attn), c(ff), dropout), nlayers)\n",
        "                \n",
        "        self.encoder = nn.Embedding(ntoken, ninp)\n",
        "        self.ninp = ninp\n",
        "        self.decoder = nn.Linear(ninp, ntoken)\n",
        "\n",
        "        self.init_weights()\n",
        "\n",
        "    def _generate_square_subsequent_mask(self, sz):\n",
        "        mask = (torch.triu(torch.ones(sz, sz)) == 1).transpose(0, 1)\n",
        "        mask = mask.float().masked_fill(mask == 0, float('-inf')).masked_fill(mask == 1, float(0.0))\n",
        "        return mask\n",
        "\n",
        "    def init_weights(self):\n",
        "        initrange = 0.1\n",
        "        self.encoder.weight.data.uniform_(-initrange, initrange)\n",
        "        self.decoder.bias.data.zero_()\n",
        "        self.decoder.weight.data.uniform_(-initrange, initrange)\n",
        "\n",
        "    def forward(self, src):\n",
        "        if self.src_mask is None or self.src_mask.size(0) != len(src):\n",
        "            device = src.device\n",
        "            mask = self._generate_square_subsequent_mask(len(src)).to(device)\n",
        "            self.src_mask = mask\n",
        "\n",
        "        src = self.encoder(src) * math.sqrt(self.ninp)\n",
        "        src = self.pos_encoder(src)\n",
        "        output = self.transformer_encoder(src, self.src_mask)\n",
        "        output = self.decoder(output)\n",
        "        return output"
      ],
      "execution_count": 0,
      "outputs": []
    },
    {
      "cell_type": "code",
      "metadata": {
        "id": "Pj3_t39f8nac",
        "colab_type": "code",
        "colab": {}
      },
      "source": [
        ""
      ],
      "execution_count": 0,
      "outputs": []
    }
  ]
}