{
  "nbformat": 4,
  "nbformat_minor": 0,
  "metadata": {
    "colab": {
      "name": "BertNSP.ipynb",
      "provenance": [],
      "private_outputs": true,
      "collapsed_sections": [],
      "include_colab_link": true
    },
    "kernelspec": {
      "name": "python3",
      "display_name": "Python 3"
    },
    "accelerator": "GPU"
  },
  "cells": [
    {
      "cell_type": "markdown",
      "metadata": {
        "id": "view-in-github",
        "colab_type": "text"
      },
      "source": [
        "<a href=\"https://colab.research.google.com/github/YuvalPeleg/transformers-workshop/blob/master/BertNSP.ipynb\" target=\"_parent\"><img src=\"https://colab.research.google.com/assets/colab-badge.svg\" alt=\"Open In Colab\"/></a>"
      ]
    },
    {
      "cell_type": "code",
      "metadata": {
        "id": "6OYMDBCMWoEF",
        "colab_type": "code",
        "colab": {}
      },
      "source": [
        "pip install pytorch_transformers"
      ],
      "execution_count": 0,
      "outputs": []
    },
    {
      "cell_type": "code",
      "metadata": {
        "id": "yqkh2TZNt4p8",
        "colab_type": "code",
        "colab": {}
      },
      "source": [
        "import torch\n",
        "from pytorch_transformers import BertTokenizer, BertModel, BertForMaskedLM,BertForNextSentencePrediction\n",
        "\n",
        "# Load pre-trained model tokenizer (vocabulary)\n",
        "tokenizer = BertTokenizer.from_pretrained('bert-base-uncased')\n",
        "\n",
        "# Load pre-trained model (weights)\n",
        "model = BertForNextSentencePrediction.from_pretrained('bert-base-uncased')\n",
        "model = model.to('cuda')\n",
        "# This is important as it stops dropouts\n",
        "model = model.eval()\n",
        "\n"
      ],
      "execution_count": 0,
      "outputs": []
    },
    {
      "cell_type": "code",
      "metadata": {
        "id": "XXR9x8DTyhA6",
        "colab_type": "code",
        "colab": {}
      },
      "source": [
        "\"\"\"\n",
        "Calculates the odds that sentence1 follows sentence2\n",
        "\n",
        "Arguments\n",
        "  sentnece1 (str): the first sentnece, must be space tokenized\n",
        "  sentnece2 (str): the first sentnece, must be space tokenized\n",
        "  model: (BertForNextSentencePrediction)\n",
        "  tokenizer: The corresponding tokenizer for the model\n",
        "\n",
        "Returns\n",
        "  The odds the sentence2 follows sentence1\n",
        "\n",
        "\"\"\"\n",
        "\n",
        "def predict_NSP(sentence1, sentence2, model, tokenizer):\n",
        "  text_input = f\"[CLS] {sentence1} [SEP] {sentence2} [SEP]\"\n",
        "  tokenized_text = tokenizer.tokenize(text_input)\n",
        "\n",
        "  # Convert token to vocabulary indices\n",
        "  indexed_tokens = tokenizer.convert_tokens_to_ids(tokenized_text)\n",
        "  tokens_tensor = torch.tensor([indexed_tokens])\n",
        "  \n",
        "  # Define sentence A and B indices associated to 1st and 2nd sentences (see paper)\n",
        "  sep_index = (tokens_tensor[0] == tokenizer.sep_token_id).nonzero()[0][0].item()\n",
        "  segment_ids = torch.ones(len(indexed_tokens))\n",
        "  segment_ids[0:sep_index + 1] = 0\n",
        "\n",
        "  predictions = model(tokens_tensor.to('cuda'), segment_ids.unsqueeze(0).long().to('cuda'))\n",
        "  return torch.softmax(predictions[0][0], 0)[0].item()\n",
        "  \n",
        "predict_NSP(\"Who was Jim Henson ?\", \"Paris is in France\", model, tokenizer) \n",
        "\n",
        "\n",
        "\n"
      ],
      "execution_count": 0,
      "outputs": []
    },
    {
      "cell_type": "code",
      "metadata": {
        "id": "M6TkJCuyRZiS",
        "colab_type": "code",
        "colab": {}
      },
      "source": [
        "print(predict_NSP(\"Who was Jim Henson ?\", \"Paris is in France\", model, tokenizer))\n",
        "print(predict_NSP(\"Who was Jim Henson ?\", \"Jim hanson was a puppeteer\", model, tokenizer))"
      ],
      "execution_count": 0,
      "outputs": []
    },
    {
      "cell_type": "code",
      "metadata": {
        "id": "BBNlATmhTCbP",
        "colab_type": "code",
        "colab": {}
      },
      "source": [
        "\"\"\"\n",
        "Task:\n",
        "Play with some sentences of your own to get a feel for NSP\n",
        "Look at that [CLS] token. Why is it there?\n",
        "\n",
        "\"\"\"\n"
      ],
      "execution_count": 0,
      "outputs": []
    },
    {
      "cell_type": "code",
      "metadata": {
        "id": "Fuz6n326Uyyt",
        "colab_type": "code",
        "colab": {}
      },
      "source": [
        ""
      ],
      "execution_count": 0,
      "outputs": []
    }
  ]
}